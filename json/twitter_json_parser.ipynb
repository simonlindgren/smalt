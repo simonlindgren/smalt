{
 "cells": [
  {
   "cell_type": "code",
   "execution_count": null,
   "metadata": {},
   "outputs": [],
   "source": [
    "import glob\n",
    "import json\n",
    "import collections.abc\n",
    "import pandas as pd"
   ]
  },
  {
   "cell_type": "code",
   "execution_count": null,
   "metadata": {},
   "outputs": [],
   "source": [
    "# Define a function for flattening nested dictionaries\n",
    "def flatten(d, parent_key='', sep='_'):\n",
    "    items = []\n",
    "    for k, v in d.items():\n",
    "        new_key = parent_key + sep + k if parent_key else k\n",
    "        if isinstance(v, collections.MutableMapping):\n",
    "            items.extend(flatten(v, new_key, sep=sep).items())\n",
    "        else:\n",
    "            items.append((new_key, v))\n",
    "    return dict(items)"
   ]
  },
  {
   "cell_type": "markdown",
   "metadata": {},
   "source": [
    "#### Inspect the json"
   ]
  },
  {
   "cell_type": "code",
   "execution_count": null,
   "metadata": {},
   "outputs": [],
   "source": [
    "file = \"path/to/file.json\""
   ]
  },
  {
   "cell_type": "code",
   "execution_count": null,
   "metadata": {},
   "outputs": [],
   "source": [
    "f = open(file, \"r\")\n",
    "firstline = f.readline()\n",
    "line_dict = json.loads(firstline)\n",
    "line_dict = flatten(line_dict)"
   ]
  },
  {
   "cell_type": "code",
   "execution_count": null,
   "metadata": {},
   "outputs": [],
   "source": [
    "for keys, values in line_dict.items():\n",
    "    print(keys)"
   ]
  },
  {
   "cell_type": "code",
   "execution_count": null,
   "metadata": {},
   "outputs": [],
   "source": [
    "wanted_keys = ['created_at',\n",
    "               'id',\n",
    "               'full_text',\n",
    "               'entities_hashtags',\n",
    "               'entitites_symbols'\n",
    "               'entities_user_mentions',\n",
    "               'entities_urls',\n",
    "               'in_reply_to_user_id',\n",
    "               'in_reply_to_screen_name',\n",
    "               'user_id',\n",
    "               'user_screen_name',\n",
    "               'user_location',\n",
    "               'user_followers_count',\n",
    "               'user_friends_count',\n",
    "               'retweeted_status_full_text',\n",
    "               'retweeted_status_user_id',\n",
    "               'retweeted_status_user_screen_name',\n",
    "               'retweeted_status_user_location',\n",
    "               'is_quote_status',\n",
    "               'lang'\n",
    "              ] # The keys you want\n",
    "\n",
    "new_dict = {k: line_dict[k] for k in wanted_keys if k in line_dict}"
   ]
  },
  {
   "cell_type": "markdown",
   "metadata": {},
   "source": [
    "#### Parse"
   ]
  },
  {
   "cell_type": "code",
   "execution_count": null,
   "metadata": {},
   "outputs": [],
   "source": [
    "datafiles = glob.glob(\"path/to/*json\")"
   ]
  },
  {
   "cell_type": "code",
   "execution_count": null,
   "metadata": {},
   "outputs": [],
   "source": [
    "for c,d in enumerate(datafiles):\n",
    "    with open(file,\"r\") as infile:\n",
    "        with open(str(c) + \".json\", \"w\") as outfile:\n",
    "    \n",
    "            for c, line in enumerate(infile):\n",
    "                line_dict = json.loads(line)\n",
    "                line_dict = flatten(line_dict)\n",
    "                new_dict = {k: line_dict[k] for k in wanted_keys if k in line_dict}\n",
    "                if len(str(new_dict)) > 4:\n",
    "                    json.dump(new_dict,outfile)\n",
    "                    outfile.write(\"\\n\")\n",
    "                    print(\"\\r\"+str(c), end=\"\")       "
   ]
  },
  {
   "cell_type": "markdown",
   "metadata": {},
   "source": [
    "#### Pandas"
   ]
  },
  {
   "cell_type": "code",
   "execution_count": null,
   "metadata": {},
   "outputs": [],
   "source": [
    "df = pd.read_json(\"parsed.json\", lines = True)"
   ]
  }
 ],
 "metadata": {
  "kernelspec": {
   "display_name": "Python 3",
   "language": "python",
   "name": "python3"
  },
  "language_info": {
   "codemirror_mode": {
    "name": "ipython",
    "version": 3
   },
   "file_extension": ".py",
   "mimetype": "text/x-python",
   "name": "python",
   "nbconvert_exporter": "python",
   "pygments_lexer": "ipython3",
   "version": "3.7.4"
  }
 },
 "nbformat": 4,
 "nbformat_minor": 4
}
